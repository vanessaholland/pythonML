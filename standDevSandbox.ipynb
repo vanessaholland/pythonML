{
 "cells": [
  {
   "cell_type": "code",
   "execution_count": 1,
   "metadata": {},
   "outputs": [
    {
     "data": {
      "text/plain": [
       "<Figure size 640x480 with 1 Axes>"
      ]
     },
     "metadata": {},
     "output_type": "display_data"
    }
   ],
   "source": [
    "import numpy as np\n",
    "import pandas as pd\n",
    "import matplotlib.pyplot as pyplot\n",
    "incomes = np.random.normal(100, 20, 10000)\n",
    "\n",
    "pyplot.hist(incomes, 100)\n",
    "pyplot.show()"
   ]
  },
  {
   "cell_type": "code",
   "execution_count": 7,
   "metadata": {},
   "outputs": [
    {
     "data": {
      "text/plain": [
       "19.91132660275997"
      ]
     },
     "execution_count": 7,
     "metadata": {},
     "output_type": "execute_result"
    }
   ],
   "source": [
    "incomes.std()\n"
   ]
  },
  {
   "cell_type": "code",
   "execution_count": 8,
   "metadata": {},
   "outputs": [
    {
     "data": {
      "text/plain": [
       "396.4609270817769"
      ]
     },
     "execution_count": 8,
     "metadata": {},
     "output_type": "execute_result"
    }
   ],
   "source": [
    "incomes.var()"
   ]
  },
  {
   "cell_type": "code",
   "execution_count": 2,
   "metadata": {},
   "outputs": [
    {
     "data": {
      "text/html": [
       "<div>\n",
       "<style scoped>\n",
       "    .dataframe tbody tr th:only-of-type {\n",
       "        vertical-align: middle;\n",
       "    }\n",
       "\n",
       "    .dataframe tbody tr th {\n",
       "        vertical-align: top;\n",
       "    }\n",
       "\n",
       "    .dataframe thead th {\n",
       "        text-align: right;\n",
       "    }\n",
       "</style>\n",
       "<table border=\"1\" class=\"dataframe\">\n",
       "  <thead>\n",
       "    <tr style=\"text-align: right;\">\n",
       "      <th></th>\n",
       "      <th>Created Date</th>\n",
       "      <th>Closed Date</th>\n",
       "      <th>Location Type</th>\n",
       "      <th>Incident Zip</th>\n",
       "      <th>City</th>\n",
       "      <th>Borough</th>\n",
       "      <th>Latitude</th>\n",
       "      <th>Longitude</th>\n",
       "    </tr>\n",
       "  </thead>\n",
       "  <tbody>\n",
       "    <tr>\n",
       "      <td>0</td>\n",
       "      <td>2015-12-31 00:01:15</td>\n",
       "      <td>2015-12-31 03:48:04</td>\n",
       "      <td>Store/Commercial</td>\n",
       "      <td>10034.0</td>\n",
       "      <td>NEW YORK</td>\n",
       "      <td>MANHATTAN</td>\n",
       "      <td>40.866183</td>\n",
       "      <td>-73.918930</td>\n",
       "    </tr>\n",
       "    <tr>\n",
       "      <td>1</td>\n",
       "      <td>2015-12-31 00:02:48</td>\n",
       "      <td>2015-12-31 04:36:13</td>\n",
       "      <td>Store/Commercial</td>\n",
       "      <td>10040.0</td>\n",
       "      <td>NEW YORK</td>\n",
       "      <td>MANHATTAN</td>\n",
       "      <td>40.859324</td>\n",
       "      <td>-73.931237</td>\n",
       "    </tr>\n",
       "    <tr>\n",
       "      <td>2</td>\n",
       "      <td>2015-12-31 00:03:25</td>\n",
       "      <td>2015-12-31 00:40:15</td>\n",
       "      <td>Residential Building/House</td>\n",
       "      <td>10026.0</td>\n",
       "      <td>NEW YORK</td>\n",
       "      <td>MANHATTAN</td>\n",
       "      <td>40.799415</td>\n",
       "      <td>-73.953371</td>\n",
       "    </tr>\n",
       "    <tr>\n",
       "      <td>3</td>\n",
       "      <td>2015-12-31 00:03:26</td>\n",
       "      <td>2015-12-31 01:53:38</td>\n",
       "      <td>Residential Building/House</td>\n",
       "      <td>11231.0</td>\n",
       "      <td>BROOKLYN</td>\n",
       "      <td>BROOKLYN</td>\n",
       "      <td>40.678285</td>\n",
       "      <td>-73.994668</td>\n",
       "    </tr>\n",
       "    <tr>\n",
       "      <td>4</td>\n",
       "      <td>2015-12-31 00:05:10</td>\n",
       "      <td>2015-12-31 03:49:10</td>\n",
       "      <td>Residential Building/House</td>\n",
       "      <td>10033.0</td>\n",
       "      <td>NEW YORK</td>\n",
       "      <td>MANHATTAN</td>\n",
       "      <td>40.850304</td>\n",
       "      <td>-73.938516</td>\n",
       "    </tr>\n",
       "    <tr>\n",
       "      <td>5</td>\n",
       "      <td>2015-12-31 00:08:05</td>\n",
       "      <td>2015-12-31 01:59:12</td>\n",
       "      <td>Residential Building/House</td>\n",
       "      <td>10467.0</td>\n",
       "      <td>BRONX</td>\n",
       "      <td>BRONX</td>\n",
       "      <td>40.858748</td>\n",
       "      <td>-73.865625</td>\n",
       "    </tr>\n",
       "    <tr>\n",
       "      <td>6</td>\n",
       "      <td>2015-12-31 00:11:40</td>\n",
       "      <td>2015-12-31 06:24:00</td>\n",
       "      <td>Residential Building/House</td>\n",
       "      <td>11230.0</td>\n",
       "      <td>BROOKLYN</td>\n",
       "      <td>BROOKLYN</td>\n",
       "      <td>40.617005</td>\n",
       "      <td>-73.956920</td>\n",
       "    </tr>\n",
       "    <tr>\n",
       "      <td>7</td>\n",
       "      <td>2015-12-31 00:12:13</td>\n",
       "      <td>2015-12-31 00:38:09</td>\n",
       "      <td>Residential Building/House</td>\n",
       "      <td>11215.0</td>\n",
       "      <td>BROOKLYN</td>\n",
       "      <td>BROOKLYN</td>\n",
       "      <td>40.665051</td>\n",
       "      <td>-73.981278</td>\n",
       "    </tr>\n",
       "    <tr>\n",
       "      <td>8</td>\n",
       "      <td>2015-12-31 00:12:37</td>\n",
       "      <td>2015-12-31 05:03:39</td>\n",
       "      <td>Residential Building/House</td>\n",
       "      <td>10463.0</td>\n",
       "      <td>BRONX</td>\n",
       "      <td>BRONX</td>\n",
       "      <td>40.875895</td>\n",
       "      <td>-73.912471</td>\n",
       "    </tr>\n",
       "    <tr>\n",
       "      <td>9</td>\n",
       "      <td>2015-12-31 00:14:13</td>\n",
       "      <td>2015-12-31 06:25:40</td>\n",
       "      <td>Store/Commercial</td>\n",
       "      <td>11372.0</td>\n",
       "      <td>JACKSON HEIGHTS</td>\n",
       "      <td>QUEENS</td>\n",
       "      <td>40.755584</td>\n",
       "      <td>-73.885201</td>\n",
       "    </tr>\n",
       "  </tbody>\n",
       "</table>\n",
       "</div>"
      ],
      "text/plain": [
       "          Created Date          Closed Date               Location Type  \\\n",
       "0  2015-12-31 00:01:15  2015-12-31 03:48:04            Store/Commercial   \n",
       "1  2015-12-31 00:02:48  2015-12-31 04:36:13            Store/Commercial   \n",
       "2  2015-12-31 00:03:25  2015-12-31 00:40:15  Residential Building/House   \n",
       "3  2015-12-31 00:03:26  2015-12-31 01:53:38  Residential Building/House   \n",
       "4  2015-12-31 00:05:10  2015-12-31 03:49:10  Residential Building/House   \n",
       "5  2015-12-31 00:08:05  2015-12-31 01:59:12  Residential Building/House   \n",
       "6  2015-12-31 00:11:40  2015-12-31 06:24:00  Residential Building/House   \n",
       "7  2015-12-31 00:12:13  2015-12-31 00:38:09  Residential Building/House   \n",
       "8  2015-12-31 00:12:37  2015-12-31 05:03:39  Residential Building/House   \n",
       "9  2015-12-31 00:14:13  2015-12-31 06:25:40            Store/Commercial   \n",
       "\n",
       "   Incident Zip             City    Borough   Latitude  Longitude  \n",
       "0       10034.0         NEW YORK  MANHATTAN  40.866183 -73.918930  \n",
       "1       10040.0         NEW YORK  MANHATTAN  40.859324 -73.931237  \n",
       "2       10026.0         NEW YORK  MANHATTAN  40.799415 -73.953371  \n",
       "3       11231.0         BROOKLYN   BROOKLYN  40.678285 -73.994668  \n",
       "4       10033.0         NEW YORK  MANHATTAN  40.850304 -73.938516  \n",
       "5       10467.0            BRONX      BRONX  40.858748 -73.865625  \n",
       "6       11230.0         BROOKLYN   BROOKLYN  40.617005 -73.956920  \n",
       "7       11215.0         BROOKLYN   BROOKLYN  40.665051 -73.981278  \n",
       "8       10463.0            BRONX      BRONX  40.875895 -73.912471  \n",
       "9       11372.0  JACKSON HEIGHTS     QUEENS  40.755584 -73.885201  "
      ]
     },
     "execution_count": 2,
     "metadata": {},
     "output_type": "execute_result"
    }
   ],
   "source": [
    "df = pd.read_csv(\"party_in_nyc.csv\")\n",
    "df.head(10)"
   ]
  },
  {
   "cell_type": "code",
   "execution_count": null,
   "metadata": {},
   "outputs": [],
   "source": []
  }
 ],
 "metadata": {
  "kernelspec": {
   "display_name": "Python 3",
   "language": "python",
   "name": "python3"
  },
  "language_info": {
   "codemirror_mode": {
    "name": "ipython",
    "version": 3
   },
   "file_extension": ".py",
   "mimetype": "text/x-python",
   "name": "python",
   "nbconvert_exporter": "python",
   "pygments_lexer": "ipython3",
   "version": "3.7.7"
  }
 },
 "nbformat": 4,
 "nbformat_minor": 4
}
