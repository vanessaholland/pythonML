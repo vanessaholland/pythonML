{
 "cells": [
  {
   "cell_type": "markdown",
   "metadata": {},
   "source": [
    "# Using book ratings to predict similar books to a specific book"
   ]
  },
  {
   "cell_type": "markdown",
   "metadata": {},
   "source": [
    "Starting with a dataset of Amazon book reviews that has about 3 mil rows. I created a smaller dataset by pulling out only the columns I needed, plus dropping rows that have a null value. \n",
    "```\n",
    "# rating_cols = ['Id', 'User_id', 'Title', 'review/score']\n",
    "# reviews = pd.read_csv(\"../datasets/Books_rating.csv\", names=rating_cols, usecols=range(4), header=0)\n",
    "\n",
    "# reviews.dropna(inplace= True)\n",
    "# reviews.to_csv('../datasets/Book_ratings_clean.csv')\n",
    "```\n",
    "to sample a subset randomly `reviews = reviews.sample(frac=0.5, random_state=1).reset_index(drop=True)` \n",
    "I didn't need to do this, but it would improve the speed (would also leave out some hits though..)\n",
    "\n",
    "Next, I updated the column names and imported it into a postgres table so I could easily search it. I'm sure it's just as fast to do it here, but I'm more comfortable with SQL at the moment. "
   ]
  },
  {
   "cell_type": "code",
   "execution_count": 2,
   "metadata": {},
   "outputs": [
    {
     "data": {
      "text/html": [
       "<div>\n",
       "<style scoped>\n",
       "    .dataframe tbody tr th:only-of-type {\n",
       "        vertical-align: middle;\n",
       "    }\n",
       "\n",
       "    .dataframe tbody tr th {\n",
       "        vertical-align: top;\n",
       "    }\n",
       "\n",
       "    .dataframe thead th {\n",
       "        text-align: right;\n",
       "    }\n",
       "</style>\n",
       "<table border=\"1\" class=\"dataframe\">\n",
       "  <thead>\n",
       "    <tr style=\"text-align: right;\">\n",
       "      <th></th>\n",
       "      <th>id</th>\n",
       "      <th>book_id</th>\n",
       "      <th>title</th>\n",
       "      <th>rating</th>\n",
       "      <th>user_id</th>\n",
       "    </tr>\n",
       "  </thead>\n",
       "  <tbody>\n",
       "    <tr>\n",
       "      <th>0</th>\n",
       "      <td>10</td>\n",
       "      <td>0829814000</td>\n",
       "      <td>Wonderful Worship in Smaller Churches</td>\n",
       "      <td>19.40</td>\n",
       "      <td>AZ0IOBU20TBOP</td>\n",
       "    </tr>\n",
       "    <tr>\n",
       "      <th>1</th>\n",
       "      <td>11</td>\n",
       "      <td>0829814000</td>\n",
       "      <td>Wonderful Worship in Smaller Churches</td>\n",
       "      <td>19.40</td>\n",
       "      <td>A373VVEU6Z9M0N</td>\n",
       "    </tr>\n",
       "    <tr>\n",
       "      <th>2</th>\n",
       "      <td>12</td>\n",
       "      <td>0829814000</td>\n",
       "      <td>Wonderful Worship in Smaller Churches</td>\n",
       "      <td>19.40</td>\n",
       "      <td>AGKGOH65VTRR4</td>\n",
       "    </tr>\n",
       "    <tr>\n",
       "      <th>3</th>\n",
       "      <td>13</td>\n",
       "      <td>0829814000</td>\n",
       "      <td>Wonderful Worship in Smaller Churches</td>\n",
       "      <td>19.40</td>\n",
       "      <td>A3OQWLU31BU1Y</td>\n",
       "    </tr>\n",
       "    <tr>\n",
       "      <th>4</th>\n",
       "      <td>14</td>\n",
       "      <td>0595344550</td>\n",
       "      <td>Whispers of the Wicked Saints</td>\n",
       "      <td>10.95</td>\n",
       "      <td>A3Q12RK71N74LB</td>\n",
       "    </tr>\n",
       "  </tbody>\n",
       "</table>\n",
       "</div>"
      ],
      "text/plain": [
       "   id     book_id                                  title  rating  \\\n",
       "0  10  0829814000  Wonderful Worship in Smaller Churches   19.40   \n",
       "1  11  0829814000  Wonderful Worship in Smaller Churches   19.40   \n",
       "2  12  0829814000  Wonderful Worship in Smaller Churches   19.40   \n",
       "3  13  0829814000  Wonderful Worship in Smaller Churches   19.40   \n",
       "4  14  0595344550          Whispers of the Wicked Saints   10.95   \n",
       "\n",
       "          user_id  \n",
       "0   AZ0IOBU20TBOP  \n",
       "1  A373VVEU6Z9M0N  \n",
       "2   AGKGOH65VTRR4  \n",
       "3   A3OQWLU31BU1Y  \n",
       "4  A3Q12RK71N74LB  "
      ]
     },
     "execution_count": 2,
     "metadata": {},
     "output_type": "execute_result"
    }
   ],
   "source": [
    "import pandas as pd\n",
    "# using that cleaner dataset\n",
    "ratings = pd.read_csv(\"../datasets/Book_ratings_clean.csv\")\n",
    "ratings.head()"
   ]
  },
  {
   "cell_type": "markdown",
   "metadata": {},
   "source": [
    "many books only have 1 review, aggregating the rating counts and mean to make it easier to work with "
   ]
  },
  {
   "cell_type": "code",
   "execution_count": 3,
   "metadata": {},
   "outputs": [
    {
     "data": {
      "text/html": [
       "<div>\n",
       "<style scoped>\n",
       "    .dataframe tbody tr th:only-of-type {\n",
       "        vertical-align: middle;\n",
       "    }\n",
       "\n",
       "    .dataframe tbody tr th {\n",
       "        vertical-align: top;\n",
       "    }\n",
       "\n",
       "    .dataframe thead tr th {\n",
       "        text-align: left;\n",
       "    }\n",
       "\n",
       "    .dataframe thead tr:last-of-type th {\n",
       "        text-align: right;\n",
       "    }\n",
       "</style>\n",
       "<table border=\"1\" class=\"dataframe\">\n",
       "  <thead>\n",
       "    <tr>\n",
       "      <th></th>\n",
       "      <th colspan=\"2\" halign=\"left\">rating</th>\n",
       "    </tr>\n",
       "    <tr>\n",
       "      <th></th>\n",
       "      <th>size</th>\n",
       "      <th>mean</th>\n",
       "    </tr>\n",
       "    <tr>\n",
       "      <th>title</th>\n",
       "      <th></th>\n",
       "      <th></th>\n",
       "    </tr>\n",
       "  </thead>\n",
       "  <tbody>\n",
       "    <tr>\n",
       "      <th>\"A Truthful Impression of the Country\": British and American Travel Writing in China, 1880-1949</th>\n",
       "      <td>1</td>\n",
       "      <td>70.27</td>\n",
       "    </tr>\n",
       "    <tr>\n",
       "      <th>\"Beauty Shop-Philly Style\"</th>\n",
       "      <td>2</td>\n",
       "      <td>13.95</td>\n",
       "    </tr>\n",
       "    <tr>\n",
       "      <th>\"Civilizing\" Rio: Reform and Resistance in a Brazilian City 1889-1930</th>\n",
       "      <td>1</td>\n",
       "      <td>32.95</td>\n",
       "    </tr>\n",
       "    <tr>\n",
       "      <th>\"Come and See\" Kids: The Life of Jesus (Catholic Bible Study for Children)</th>\n",
       "      <td>2</td>\n",
       "      <td>9.65</td>\n",
       "    </tr>\n",
       "    <tr>\n",
       "      <th>\"Come to Me\"</th>\n",
       "      <td>1</td>\n",
       "      <td>10.19</td>\n",
       "    </tr>\n",
       "  </tbody>\n",
       "</table>\n",
       "</div>"
      ],
      "text/plain": [
       "                                                   rating       \n",
       "                                                     size   mean\n",
       "title                                                           \n",
       "\"A Truthful Impression of the Country\": British...      1  70.27\n",
       "\"Beauty Shop-Philly Style\"                              2  13.95\n",
       "\"Civilizing\" Rio: Reform and Resistance in a Br...      1  32.95\n",
       "\"Come and See\" Kids: The Life of Jesus (Catholi...      2   9.65\n",
       "\"Come to Me\"                                            1  10.19"
      ]
     },
     "execution_count": 3,
     "metadata": {},
     "output_type": "execute_result"
    }
   ],
   "source": [
    "import numpy as np\n",
    "bookReviews = ratings.groupby('title').agg({'rating': [np.size, np.mean]})\n",
    "bookReviews.head()"
   ]
  },
  {
   "cell_type": "markdown",
   "metadata": {},
   "source": [
    "Too many rows for my laptop to churn through, so dropping out books with less than 10 reviews"
   ]
  },
  {
   "cell_type": "code",
   "execution_count": 4,
   "metadata": {},
   "outputs": [
    {
     "data": {
      "text/html": [
       "<div>\n",
       "<style scoped>\n",
       "    .dataframe tbody tr th:only-of-type {\n",
       "        vertical-align: middle;\n",
       "    }\n",
       "\n",
       "    .dataframe tbody tr th {\n",
       "        vertical-align: top;\n",
       "    }\n",
       "\n",
       "    .dataframe thead tr th {\n",
       "        text-align: left;\n",
       "    }\n",
       "\n",
       "    .dataframe thead tr:last-of-type th {\n",
       "        text-align: right;\n",
       "    }\n",
       "</style>\n",
       "<table border=\"1\" class=\"dataframe\">\n",
       "  <thead>\n",
       "    <tr>\n",
       "      <th></th>\n",
       "      <th colspan=\"2\" halign=\"left\">rating</th>\n",
       "    </tr>\n",
       "    <tr>\n",
       "      <th></th>\n",
       "      <th>size</th>\n",
       "      <th>mean</th>\n",
       "    </tr>\n",
       "    <tr>\n",
       "      <th>title</th>\n",
       "      <th></th>\n",
       "      <th></th>\n",
       "    </tr>\n",
       "  </thead>\n",
       "  <tbody>\n",
       "    <tr>\n",
       "      <th>Starkissed</th>\n",
       "      <td>35</td>\n",
       "      <td>730.00</td>\n",
       "    </tr>\n",
       "    <tr>\n",
       "      <th>The Collected Works of J.G. Frazer: The Golden Bough (The Collected Works of James G)</th>\n",
       "      <td>49</td>\n",
       "      <td>630.00</td>\n",
       "    </tr>\n",
       "    <tr>\n",
       "      <th>Atlas of Hematology</th>\n",
       "      <td>10</td>\n",
       "      <td>455.00</td>\n",
       "    </tr>\n",
       "    <tr>\n",
       "      <th>Social Theory and Methodology: From Max Weber: Essays in Sociology (International Library of Sociology)</th>\n",
       "      <td>11</td>\n",
       "      <td>410.00</td>\n",
       "    </tr>\n",
       "    <tr>\n",
       "      <th>Richard II (Shakespeare: The Critical Tradition)</th>\n",
       "      <td>13</td>\n",
       "      <td>360.00</td>\n",
       "    </tr>\n",
       "    <tr>\n",
       "      <th>Vietnamese, Comprehensive: Learn to Speak and Understand Vietnamese with Pimsleur Language Programs</th>\n",
       "      <td>10</td>\n",
       "      <td>345.00</td>\n",
       "    </tr>\n",
       "    <tr>\n",
       "      <th>Polish, Comprehensive: Learn to Speak and Understand Polish with Pimsleur Language Programs</th>\n",
       "      <td>12</td>\n",
       "      <td>287.38</td>\n",
       "    </tr>\n",
       "    <tr>\n",
       "      <th>Spanish III, Comprehensive: Learn to Speak and Understand Latin American Spanish with Pimsleur Language Programs</th>\n",
       "      <td>28</td>\n",
       "      <td>287.38</td>\n",
       "    </tr>\n",
       "    <tr>\n",
       "      <th>Italian II, Second Edition: Compehensive Compact Discs</th>\n",
       "      <td>11</td>\n",
       "      <td>287.38</td>\n",
       "    </tr>\n",
       "    <tr>\n",
       "      <th>Czech, Comprehensive: Learn to Speak and Understand Czech with Pimsleur Language Programs</th>\n",
       "      <td>12</td>\n",
       "      <td>287.38</td>\n",
       "    </tr>\n",
       "    <tr>\n",
       "      <th>The Oxford Encyclopedia of Food and Drink in America: 2-Volume Set</th>\n",
       "      <td>10</td>\n",
       "      <td>283.50</td>\n",
       "    </tr>\n",
       "    <tr>\n",
       "      <th>Western Civilization: Combined Volume</th>\n",
       "      <td>10</td>\n",
       "      <td>262.95</td>\n",
       "    </tr>\n",
       "    <tr>\n",
       "      <th>French III, Comprehensive: Learn to Speak and Understand French with Pimsleur Language Programs (Simon &amp; Schuster's Pimsleur)</th>\n",
       "      <td>17</td>\n",
       "      <td>241.50</td>\n",
       "    </tr>\n",
       "    <tr>\n",
       "      <th>Spanish II, 3rd Ed. (Compr.) [CD]</th>\n",
       "      <td>24</td>\n",
       "      <td>234.05</td>\n",
       "    </tr>\n",
       "    <tr>\n",
       "      <th>Essentials of Business Communication</th>\n",
       "      <td>17</td>\n",
       "      <td>233.95</td>\n",
       "    </tr>\n",
       "  </tbody>\n",
       "</table>\n",
       "</div>"
      ],
      "text/plain": [
       "                                                   rating        \n",
       "                                                     size    mean\n",
       "title                                                            \n",
       "Starkissed                                             35  730.00\n",
       "The Collected Works of J.G. Frazer: The Golden ...     49  630.00\n",
       "Atlas of Hematology                                    10  455.00\n",
       "Social Theory and Methodology: From Max Weber: ...     11  410.00\n",
       "Richard II (Shakespeare: The Critical Tradition)       13  360.00\n",
       "Vietnamese, Comprehensive: Learn to Speak and U...     10  345.00\n",
       "Polish, Comprehensive: Learn to Speak and Under...     12  287.38\n",
       "Spanish III, Comprehensive: Learn to Speak and ...     28  287.38\n",
       "Italian II, Second Edition: Compehensive Compac...     11  287.38\n",
       "Czech, Comprehensive: Learn to Speak and Unders...     12  287.38\n",
       "The Oxford Encyclopedia of Food and Drink in Am...     10  283.50\n",
       "Western Civilization: Combined Volume                  10  262.95\n",
       "French III, Comprehensive: Learn to Speak and U...     17  241.50\n",
       "Spanish II, 3rd Ed. (Compr.) [CD]                      24  234.05\n",
       "Essentials of Business Communication                   17  233.95"
      ]
     },
     "execution_count": 4,
     "metadata": {},
     "output_type": "execute_result"
    }
   ],
   "source": [
    "popularBooks = bookReviews['rating']['size'] >= 10\n",
    "bookReviews[popularBooks].sort_values([('rating', 'mean')], ascending=False)[:15]"
   ]
  },
  {
   "cell_type": "markdown",
   "metadata": {},
   "source": [
    "Using the pivot_table function on a DataFrame will construct a user / book rating matrix. This process takes about 5 mins to run on my 2020 MBP, watch the activity monitor to see the process. \n",
    "Next, I cast this back to a dataframe to work with, then joined it to the original dataframe to get ratings and user_id's. Left join here leaves out books from the original set that aren't in the popular list (10 or more reviews). "
   ]
  },
  {
   "cell_type": "code",
   "execution_count": 5,
   "metadata": {
    "scrolled": true
   },
   "outputs": [
    {
     "data": {
      "text/html": [
       "<div>\n",
       "<style scoped>\n",
       "    .dataframe tbody tr th:only-of-type {\n",
       "        vertical-align: middle;\n",
       "    }\n",
       "\n",
       "    .dataframe tbody tr th {\n",
       "        vertical-align: top;\n",
       "    }\n",
       "\n",
       "    .dataframe thead th {\n",
       "        text-align: right;\n",
       "    }\n",
       "</style>\n",
       "<table border=\"1\" class=\"dataframe\">\n",
       "  <thead>\n",
       "    <tr style=\"text-align: right;\">\n",
       "      <th></th>\n",
       "      <th>size</th>\n",
       "      <th>id</th>\n",
       "      <th>book_id</th>\n",
       "      <th>rating</th>\n",
       "      <th>user_id</th>\n",
       "    </tr>\n",
       "    <tr>\n",
       "      <th>title</th>\n",
       "      <th></th>\n",
       "      <th></th>\n",
       "      <th></th>\n",
       "      <th></th>\n",
       "      <th></th>\n",
       "    </tr>\n",
       "  </thead>\n",
       "  <tbody>\n",
       "    <tr>\n",
       "      <th>\"A Truthful Impression of the Country\": British and American Travel Writing in China, 1880-1949</th>\n",
       "      <td>False</td>\n",
       "      <td>2588738</td>\n",
       "      <td>0472111973</td>\n",
       "      <td>70.27</td>\n",
       "      <td>A912C7977MO6O</td>\n",
       "    </tr>\n",
       "    <tr>\n",
       "      <th>\"Beauty Shop-Philly Style\"</th>\n",
       "      <td>False</td>\n",
       "      <td>1274800</td>\n",
       "      <td>1420859323</td>\n",
       "      <td>13.95</td>\n",
       "      <td>A23JCW11WWEQCQ</td>\n",
       "    </tr>\n",
       "    <tr>\n",
       "      <th>\"Beauty Shop-Philly Style\"</th>\n",
       "      <td>False</td>\n",
       "      <td>1274801</td>\n",
       "      <td>1420859323</td>\n",
       "      <td>13.95</td>\n",
       "      <td>A1Y2KST29TFAPF</td>\n",
       "    </tr>\n",
       "    <tr>\n",
       "      <th>\"Civilizing\" Rio: Reform and Resistance in a Brazilian City 1889-1930</th>\n",
       "      <td>False</td>\n",
       "      <td>1036878</td>\n",
       "      <td>027102870X</td>\n",
       "      <td>32.95</td>\n",
       "      <td>A276Y65EABFM69</td>\n",
       "    </tr>\n",
       "    <tr>\n",
       "      <th>\"Come and See\" Kids: The Life of Jesus (Catholic Bible Study for Children)</th>\n",
       "      <td>False</td>\n",
       "      <td>755357</td>\n",
       "      <td>1931018286</td>\n",
       "      <td>9.65</td>\n",
       "      <td>A1JM25M2PSVPXE</td>\n",
       "    </tr>\n",
       "  </tbody>\n",
       "</table>\n",
       "</div>"
      ],
      "text/plain": [
       "                                                     size       id  \\\n",
       "title                                                                \n",
       "\"A Truthful Impression of the Country\": British...  False  2588738   \n",
       "\"Beauty Shop-Philly Style\"                          False  1274800   \n",
       "\"Beauty Shop-Philly Style\"                          False  1274801   \n",
       "\"Civilizing\" Rio: Reform and Resistance in a Br...  False  1036878   \n",
       "\"Come and See\" Kids: The Life of Jesus (Catholi...  False   755357   \n",
       "\n",
       "                                                       book_id  rating  \\\n",
       "title                                                                    \n",
       "\"A Truthful Impression of the Country\": British...  0472111973   70.27   \n",
       "\"Beauty Shop-Philly Style\"                          1420859323   13.95   \n",
       "\"Beauty Shop-Philly Style\"                          1420859323   13.95   \n",
       "\"Civilizing\" Rio: Reform and Resistance in a Br...  027102870X   32.95   \n",
       "\"Come and See\" Kids: The Life of Jesus (Catholi...  1931018286    9.65   \n",
       "\n",
       "                                                           user_id  \n",
       "title                                                               \n",
       "\"A Truthful Impression of the Country\": British...   A912C7977MO6O  \n",
       "\"Beauty Shop-Philly Style\"                          A23JCW11WWEQCQ  \n",
       "\"Beauty Shop-Philly Style\"                          A1Y2KST29TFAPF  \n",
       "\"Civilizing\" Rio: Reform and Resistance in a Br...  A276Y65EABFM69  \n",
       "\"Come and See\" Kids: The Life of Jesus (Catholi...  A1JM25M2PSVPXE  "
      ]
     },
     "execution_count": 5,
     "metadata": {},
     "output_type": "execute_result"
    }
   ],
   "source": [
    "popularBooksDF = popularBooks.to_frame()\n",
    "# join this back with the original ratings df to get the ratings and user_ids\n",
    "popularBooksDF = popularBooksDF.join(ratings.set_index('title'), on='title', how='left')\n",
    "popularBooksDF.head()"
   ]
  },
  {
   "cell_type": "code",
   "execution_count": null,
   "metadata": {},
   "outputs": [
    {
     "name": "stderr",
     "output_type": "stream",
     "text": [
      "/Users/vanessaholland/opt/anaconda3/lib/python3.9/site-packages/pandas/core/reshape/reshape.py:134: PerformanceWarning: The following operation may generate 14469434325 cells in the resulting pandas object.\n",
      "  warnings.warn(\n"
     ]
    }
   ],
   "source": [
    "bookReviewsPTable = popularBooksDF.pivot_table(index=['user_id'],columns=['title'],values='rating')\n",
    "bookReviewsPTable.head()"
   ]
  },
  {
   "cell_type": "code",
   "execution_count": null,
   "metadata": {},
   "outputs": [],
   "source": [
    "specificBookRatings = bookReviewsPTable[\"The Picture of Dorian Gray\t\"]\n",
    "specificBookRatings.count()"
   ]
  },
  {
   "cell_type": "markdown",
   "metadata": {},
   "source": [
    "from the frank kane course: Pandas' corrwith function makes it really easy to compute the pairwise correlation of the book's vector of user rating with every other book! After that, we'll drop any results that have no data, and construct a new DataFrame of books and their correlation score (similarity) to the specific one from above:"
   ]
  },
  {
   "cell_type": "code",
   "execution_count": null,
   "metadata": {},
   "outputs": [],
   "source": [
    "similarBooks = bookReviewsPTable.corrwith(specificBookRatings)\n",
    "similarBooks = similarBooks.dropna()\n",
    "df = pd.DataFrame(similarBooks)\n",
    "df.head(10)"
   ]
  },
  {
   "cell_type": "markdown",
   "metadata": {},
   "source": [
    "ToDo- resolve that error. for now it's safe."
   ]
  },
  {
   "cell_type": "code",
   "execution_count": null,
   "metadata": {},
   "outputs": [],
   "source": [
    "similarBooks.sort_values(ascending=False)"
   ]
  },
  {
   "cell_type": "markdown",
   "metadata": {},
   "source": [
    "Ten might be too low.. may play around with it. "
   ]
  },
  {
   "cell_type": "code",
   "execution_count": null,
   "metadata": {},
   "outputs": [],
   "source": [
    "df = bookReviews[popularBooks].join(pd.DataFrame(similarBooks, columns=['similarity']))"
   ]
  },
  {
   "cell_type": "code",
   "execution_count": null,
   "metadata": {},
   "outputs": [],
   "source": [
    "df.head()"
   ]
  },
  {
   "cell_type": "code",
   "execution_count": null,
   "metadata": {},
   "outputs": [],
   "source": [
    "df.sort_values(['similarity'], ascending=False)[:15]"
   ]
  },
  {
   "cell_type": "markdown",
   "metadata": {},
   "source": [
    "Follow-ups: remove original book from results, and learn how to work with big data more efficiently. Specifically Spark."
   ]
  },
  {
   "cell_type": "markdown",
   "metadata": {},
   "source": [
    "Results it spits out when the kernal doesn't die: \n",
    "```\n",
    "Alice's Adventures in Wonderland and Through the Looking Glass (Classic Collection (Brilliance Audio))    1.000\n",
    "The Picture of Dorian Gray                                                                                1.000\n",
    "The Red Badge of Courage (Lake Illustrated Classics, Collection 1)                                        1.000\n",
    "Wuthering Heights                                                                                         1.000\n",
    "the Picture of Dorian Gray                                                                                1.000\n",
    "A Christmas Carol (Classic Fiction)                                                                       1.000\n",
    "A Christmas Carol, in Prose: Being a Ghost Story of Christmas (Collected Works of Charles Dickens)        1.000\n",
    "The Picture of Dorian Gray (The Classic Collection)                                                       0.998\n",
    "```"
   ]
  },
  {
   "cell_type": "code",
   "execution_count": null,
   "metadata": {},
   "outputs": [],
   "source": []
  }
 ],
 "metadata": {
  "kernelspec": {
   "display_name": "Python 3 (ipykernel)",
   "language": "python",
   "name": "python3"
  },
  "language_info": {
   "codemirror_mode": {
    "name": "ipython",
    "version": 3
   },
   "file_extension": ".py",
   "mimetype": "text/x-python",
   "name": "python",
   "nbconvert_exporter": "python",
   "pygments_lexer": "ipython3",
   "version": "3.9.13"
  },
  "vscode": {
   "interpreter": {
    "hash": "aee8b7b246df8f9039afb4144a1f6fd8d2ca17a180786b69acc140d282b71a49"
   }
  }
 },
 "nbformat": 4,
 "nbformat_minor": 1
}
