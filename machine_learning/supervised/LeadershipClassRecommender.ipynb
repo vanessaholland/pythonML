{
 "cells": [
  {
   "cell_type": "code",
   "execution_count": 1,
   "id": "2771952a-18e7-4d80-9beb-cab1a9751685",
   "metadata": {},
   "outputs": [],
   "source": [
    "import numpy as np\n",
    "import pandas as pd\n",
    "\n",
    "# Leadership skills\n",
    "skills = [\n",
    "    'building_trust',\n",
    "    'self_awareness',\n",
    "    'patience',\n",
    "    'communication',\n",
    "    'empowering_others',\n",
    "    'accountability',\n",
    "    'influence',\n",
    "    'collaboration'\n",
    "]\n",
    "\n",
    "# Survey data for users' self-assessed (user_1) and colleague-assessed (all others) skill levels (1-5 scale)\n",
    "survey_data = {\n",
    "    'User_1': [5, 3, 4, 1, 2, 4, 5, 3],\n",
    "    'User_2': [4, 1, 3, 2, 4, 4, 3, 3],\n",
    "    'User_3': [2, 3, 3, 5, 1, 3, 5, 2],\n",
    "    'User_4': [4, 4, 5, 3, 3, 4, 3, np.nan],\n",
    "    'User_5': [1, 5, 2, 3, np.nan, np.nan, np.nan, np.nan]\n",
    "}\n",
    "\n",
    "# Class data - focus on different skills (0-5 scale, where higher means stronger focus on that skill)\n",
    "classes = {\n",
    "    'class_1': [0, 0, 0, 5, 5, 0, 2, 4],\n",
    "    'class_2': [5, 4, 0, 3, 0, 0, 0, 3],\n",
    "    'class_3': [0, 0, 3, 0, 0, 2, 3, 1],\n",
    "    'class_4': [3, 1, 5, 0, 0, 5, 0, 0],\n",
    "    'class_5': [0, 0, 2, 1, 1, 0, 5, 5]\n",
    "}"
   ]
  },
  {
   "cell_type": "code",
   "execution_count": 2,
   "id": "6c86146b-a171-4b30-8e2a-4a4fe2bf5a56",
   "metadata": {},
   "outputs": [],
   "source": [
    "# Convert survey data and class data to DataFrames\n",
    "survey_df = pd.DataFrame(survey_data, index=skills).T\n",
    "classes_df = pd.DataFrame(classes, index=skills).T"
   ]
  },
  {
   "cell_type": "code",
   "execution_count": 3,
   "id": "7ae6f624-e98b-49fc-8334-e18138f877b6",
   "metadata": {},
   "outputs": [],
   "source": [
    "# Optional: if allowing for incomplete survey data, fill the missing ratings with the mean of that skill\n",
    "# Otherwise, you can disallow incomplete surveys\n",
    "survey_df_filled = survey_df.apply(lambda x: x.fillna(x.mean()), axis=0)\n",
    "\n",
    "# 1. Aggregate the survey data by summing up the skill values across all users responses\n",
    "aggregated_skill_levels = survey_df_filled.sum()"
   ]
  },
  {
   "cell_type": "code",
   "execution_count": 4,
   "id": "14e29d9e-dc5d-42a4-b778-0379e5e12e90",
   "metadata": {},
   "outputs": [
    {
     "name": "stdout",
     "output_type": "stream",
     "text": [
      "Skill gaps greatest to lowest:\n",
      " empowering_others    12.500000\n",
      "collaboration        11.666667\n",
      "communication        11.000000\n",
      "building_trust        9.000000\n",
      "self_awareness        9.000000\n",
      "patience              8.000000\n",
      "accountability        6.250000\n",
      "influence             5.000000\n",
      "dtype: float64\n"
     ]
    }
   ],
   "source": [
    "# 2. Define the ideal skill level (assumed to be 5 per user per skill)\n",
    "ideal_total_skill_level = 5 * len(survey_data)  # 5 points per skill per user\n",
    "\n",
    "# 3. Calculate skill gaps for the aggregated data\n",
    "skill_gaps = ideal_total_skill_level - aggregated_skill_levels\n",
    "\n",
    "# 4. Rank the skills by the largest gap (lowest total scores compared to ideal level)\n",
    "top_gaps = skill_gaps.sort_values(ascending=False)\n",
    "print(\"Skill gaps greatest to lowest:\\n\", top_gaps)"
   ]
  },
  {
   "cell_type": "code",
   "execution_count": 5,
   "id": "ea6c8eda-a825-498a-a019-c7125ffa1db8",
   "metadata": {},
   "outputs": [
    {
     "name": "stdout",
     "output_type": "stream",
     "text": [
      "Top 2 recommended classes based on skill gaps:\n",
      " class_1    174.166667\n",
      "class_2    149.000000\n",
      "dtype: float64\n"
     ]
    }
   ],
   "source": [
    "# 5. Suggest classes based on the largest skill gaps\n",
    "# We multiply the class focus matrix by the skill gaps to identify the best class matches\n",
    "class_scores = top_gaps.dot(classes_df.T)\n",
    "\n",
    "# 6. Recommend the top 2 classes\n",
    "top_classes = class_scores.sort_values(ascending=False).head(2)\n",
    "\n",
    "# Output the top 2 classes\n",
    "print(\"Top 2 recommended classes based on skill gaps:\\n\", top_classes)"
   ]
  },
  {
   "cell_type": "code",
   "execution_count": 6,
   "id": "3044cc00-ad53-44e7-8ed1-c6c12b4be3e7",
   "metadata": {},
   "outputs": [
    {
     "name": "stdout",
     "output_type": "stream",
     "text": [
      "Skill totals:\n",
      " empowering_others    12.500000\n",
      "collaboration        13.333333\n",
      "communication        14.000000\n",
      "building_trust       16.000000\n",
      "self_awareness       16.000000\n",
      "patience             17.000000\n",
      "accountability       18.750000\n",
      "influence            20.000000\n",
      "dtype: float64\n"
     ]
    }
   ],
   "source": [
    "print(\"Skill totals:\\n\", aggregated_skill_levels.sort_values())"
   ]
  },
  {
   "cell_type": "code",
   "execution_count": 7,
   "id": "f05f57ea-c2d1-48f8-a21e-54e6ce6df77f",
   "metadata": {},
   "outputs": [
    {
     "name": "stdout",
     "output_type": "stream",
     "text": [
      "Class Skills list:\n",
      "          building_trust  self_awareness  patience  communication  \\\n",
      "class_1               0               0         0              5   \n",
      "class_2               5               4         0              3   \n",
      "class_3               0               0         3              0   \n",
      "class_4               3               1         5              0   \n",
      "class_5               0               0         2              1   \n",
      "\n",
      "         empowering_others  accountability  influence  collaboration  \n",
      "class_1                  5               0          2              4  \n",
      "class_2                  0               0          0              3  \n",
      "class_3                  0               2          3              1  \n",
      "class_4                  0               5          0              0  \n",
      "class_5                  1               0          5              5  \n"
     ]
    }
   ],
   "source": [
    "print(\"Class Skills list:\\n\", classes_df)"
   ]
  },
  {
   "cell_type": "code",
   "execution_count": null,
   "id": "a2ec32f0-be5f-4714-9caf-99f608566bb0",
   "metadata": {},
   "outputs": [],
   "source": []
  }
 ],
 "metadata": {
  "kernelspec": {
   "display_name": "new_venv",
   "language": "python",
   "name": "new_venv"
  },
  "language_info": {
   "codemirror_mode": {
    "name": "ipython",
    "version": 3
   },
   "file_extension": ".py",
   "mimetype": "text/x-python",
   "name": "python",
   "nbconvert_exporter": "python",
   "pygments_lexer": "ipython3",
   "version": "3.13.0"
  }
 },
 "nbformat": 4,
 "nbformat_minor": 5
}
